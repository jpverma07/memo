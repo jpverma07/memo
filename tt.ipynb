{
  "nbformat": 4,
  "nbformat_minor": 0,
  "metadata": {
    "colab": {
      "name": "Untitled0.ipynb",
      "version": "0.3.2",
      "provenance": []
    },
    "kernelspec": {
      "name": "python3",
      "display_name": "Python 3"
    }
  },
  "cells": [
    {
      "metadata": {
        "id": "BnkrKx-OlpkN",
        "colab_type": "code",
        "outputId": "a3d3e9c5-e27c-4810-fed5-eb10fd8722c3",
        "colab": {
          "base_uri": "https://localhost:8080/",
          "height": 35
        }
      },
      "cell_type": "code",
      "source": [
        "import numpy as np\n",
        "\n",
        "a = np.array([1,2,3,4])\n",
        "print(a)"
      ],
      "execution_count": 0,
      "outputs": [
        {
          "output_type": "stream",
          "text": [
            "[1 2 3 4]\n"
          ],
          "name": "stdout"
        }
      ]
    },
    {
      "metadata": {
        "id": "EsxDhrfDlxfz",
        "colab_type": "code",
        "outputId": "b725b8c0-8280-411b-d75d-f76bda2f1e59",
        "colab": {
          "base_uri": "https://localhost:8080/",
          "height": 87
        }
      },
      "cell_type": "code",
      "source": [
        "import time\n",
        "\n",
        "a = np.random.rand(1000000)\n",
        "b = np.random.rand(1000000)\n",
        "\n",
        "t1 = time.time()\n",
        "c = np.dot(a,b)\n",
        "t2 = time.time()\n",
        "\n",
        "print(c)\n",
        "print(\"vectorized version:\", str(1000*(t2-t1)), \" ms\")\n",
        "\n",
        "c = 0\n",
        "t1 = time.time()\n",
        "for i in range(1000000):\n",
        "  c+=a[i]*b[i]\n",
        "t2 = time.time()\n",
        "\n",
        "print(c)\n",
        "print(\"For loop:\", str(1000*(t2-t1)), \" ms\")\n"
      ],
      "execution_count": 0,
      "outputs": [
        {
          "output_type": "stream",
          "text": [
            "250181.2470973565\n",
            "vectorized version: 1.5933513641357422  ms\n",
            "250181.24709735328\n",
            "For loop: 472.18966484069824  ms\n"
          ],
          "name": "stdout"
        }
      ]
    },
    {
      "metadata": {
        "id": "ImwDgOnXoUPX",
        "colab_type": "code",
        "colab": {}
      },
      "cell_type": "code",
      "source": [
        ""
      ],
      "execution_count": 0,
      "outputs": []
    }
  ]
}